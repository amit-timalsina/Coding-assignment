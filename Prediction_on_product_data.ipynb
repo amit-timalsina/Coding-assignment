{
  "nbformat": 4,
  "nbformat_minor": 5,
  "metadata": {
    "kernelspec": {
      "display_name": "Python 3",
      "language": "python",
      "name": "python3"
    },
    "language_info": {
      "codemirror_mode": {
        "name": "ipython",
        "version": 3
      },
      "file_extension": ".py",
      "mimetype": "text/x-python",
      "name": "python",
      "nbconvert_exporter": "python",
      "pygments_lexer": "ipython3",
      "version": "3.7.10"
    },
    "colab": {
      "name": "Prediction on product data.ipynb",
      "provenance": [],
      "collapsed_sections": [
        "ab410a92",
        "55d37b33",
        "5e239b73",
        "09e60d2d",
        "55e67abc"
      ],
      "include_colab_link": true
    }
  },
  "cells": [
    {
      "cell_type": "markdown",
      "metadata": {
        "id": "view-in-github",
        "colab_type": "text"
      },
      "source": [
        "<a href=\"https://colab.research.google.com/github/amit-timalsina/Coding-assignment/blob/master/Prediction_on_product_data.ipynb\" target=\"_parent\"><img src=\"https://colab.research.google.com/assets/colab-badge.svg\" alt=\"Open In Colab\"/></a>"
      ]
    },
    {
      "cell_type": "code",
      "metadata": {
        "id": "51de197b"
      },
      "source": [
        "# Python ≥3.5 is required\n",
        "import sys\n",
        "assert sys.version_info >= (3, 5)\n",
        "\n",
        "# Scikit-Learn ≥0.20 is required\n",
        "import sklearn\n",
        "assert sklearn.__version__ >= \"0.20\"\n",
        "\n",
        "try:\n",
        "    # %tensorflow_version only exists in Colab.\n",
        "    %tensorflow_version 2.x\n",
        "except Exception:\n",
        "    pass\n",
        "\n",
        "# TensorFlow ≥2.0 is required\n",
        "import tensorflow as tf\n",
        "from tensorflow import keras\n",
        "assert tf.__version__ >= \"2.0\"\n",
        "\n",
        "%load_ext tensorboard\n",
        "\n",
        "# Common imports\n",
        "import numpy as np\n",
        "import os\n",
        "import pandas as pd\n",
        "import sklearn\n",
        "\n",
        "# to make this notebook's output stable across runs\n",
        "np.random.seed(42)\n",
        "\n",
        "# To plot pretty figures\n",
        "%matplotlib inline\n",
        "import matplotlib as mpl\n",
        "import matplotlib.pyplot as plt\n",
        "mpl.rc('axes', labelsize=14)\n",
        "mpl.rc('xtick', labelsize=12)\n",
        "mpl.rc('ytick', labelsize=12)\n",
        "\n",
        "# Where to save the figures\n",
        "PROJECT_ROOT_DIR = \".\"\n",
        "IMAGES_PATH = os.path.join(PROJECT_ROOT_DIR, \"images\")\n",
        "os.makedirs(IMAGES_PATH, exist_ok=True)\n",
        "\n",
        "def save_fig(fig_id, tight_layout=True, fig_extension=\"png\", resolution=300):\n",
        "    path = os.path.join(IMAGES_PATH, fig_id + \".\" + fig_extension)\n",
        "    print(\"Saving figure\", fig_id)\n",
        "    if tight_layout:\n",
        "        plt.tight_layout()\n",
        "    plt.savefig(path, format=fig_extension, dpi=resolution)"
      ],
      "id": "51de197b",
      "execution_count": null,
      "outputs": []
    },
    {
      "cell_type": "code",
      "metadata": {
        "colab": {
          "resources": {
            "http://localhost:8080/nbextensions/google.colab/files.js": {
              "data": "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",
              "ok": true,
              "headers": [
                [
                  "content-type",
                  "application/javascript"
                ]
              ],
              "status": 200,
              "status_text": "OK"
            }
          },
          "base_uri": "https://localhost:8080/",
          "height": 72
        },
        "id": "1pbuIvYkRiK8",
        "outputId": "35243f5b-ef10-491a-e804-05e800fc63c7"
      },
      "source": [
        "try:\n",
        "  from google.colab import files\n",
        "  files.upload()\n",
        "\n",
        "except:\n",
        "  print('No module files')"
      ],
      "id": "1pbuIvYkRiK8",
      "execution_count": null,
      "outputs": [
        {
          "output_type": "display_data",
          "data": {
            "text/html": [
              "\n",
              "     <input type=\"file\" id=\"files-1399c7af-ab4d-4949-9206-617d8a2ae331\" name=\"files[]\" multiple disabled\n",
              "        style=\"border:none\" />\n",
              "     <output id=\"result-1399c7af-ab4d-4949-9206-617d8a2ae331\">\n",
              "      Upload widget is only available when the cell has been executed in the\n",
              "      current browser session. Please rerun this cell to enable.\n",
              "      </output>\n",
              "      <script src=\"/nbextensions/google.colab/files.js\"></script> "
            ],
            "text/plain": [
              "<IPython.core.display.HTML object>"
            ]
          },
          "metadata": {}
        },
        {
          "output_type": "stream",
          "name": "stdout",
          "text": [
            "Saving test_set.csv to test_set.csv\n",
            "Saving train_set.csv to train_set.csv\n"
          ]
        }
      ]
    },
    {
      "cell_type": "code",
      "metadata": {
        "colab": {
          "base_uri": "https://localhost:8080/",
          "height": 207
        },
        "id": "edcf3bdc",
        "outputId": "6a86f106-9b88-47b7-ad73-b137573c73f3"
      },
      "source": [
        "df = pd.read_csv('train_set.csv', encoding='latin-1')\n",
        "df.head()"
      ],
      "id": "edcf3bdc",
      "execution_count": null,
      "outputs": [
        {
          "output_type": "execute_result",
          "data": {
            "text/html": [
              "<div>\n",
              "<style scoped>\n",
              "    .dataframe tbody tr th:only-of-type {\n",
              "        vertical-align: middle;\n",
              "    }\n",
              "\n",
              "    .dataframe tbody tr th {\n",
              "        vertical-align: top;\n",
              "    }\n",
              "\n",
              "    .dataframe thead th {\n",
              "        text-align: right;\n",
              "    }\n",
              "</style>\n",
              "<table border=\"1\" class=\"dataframe\">\n",
              "  <thead>\n",
              "    <tr style=\"text-align: right;\">\n",
              "      <th></th>\n",
              "      <th>label</th>\n",
              "      <th>text</th>\n",
              "    </tr>\n",
              "  </thead>\n",
              "  <tbody>\n",
              "    <tr>\n",
              "      <th>0</th>\n",
              "      <td>85389000</td>\n",
              "      <td>pdscpm gb part of panel of chiller</td>\n",
              "    </tr>\n",
              "    <tr>\n",
              "      <th>1</th>\n",
              "      <td>85389000</td>\n",
              "      <td>nm  p economical extended rot hand parts for c...</td>\n",
              "    </tr>\n",
              "    <tr>\n",
              "      <th>2</th>\n",
              "      <td>85389000</td>\n",
              "      <td>lv ma pd trip unit for cvs parts of circuit br...</td>\n",
              "    </tr>\n",
              "    <tr>\n",
              "      <th>3</th>\n",
              "      <td>85389000</td>\n",
              "      <td>lv na p trip unit for cvs switch parts of circ...</td>\n",
              "    </tr>\n",
              "    <tr>\n",
              "      <th>4</th>\n",
              "      <td>85389000</td>\n",
              "      <td>lv tmd pd trip unit for cvs parts of circuitbr...</td>\n",
              "    </tr>\n",
              "  </tbody>\n",
              "</table>\n",
              "</div>"
            ],
            "text/plain": [
              "      label                                               text\n",
              "0  85389000                 pdscpm gb part of panel of chiller\n",
              "1  85389000  nm  p economical extended rot hand parts for c...\n",
              "2  85389000  lv ma pd trip unit for cvs parts of circuit br...\n",
              "3  85389000  lv na p trip unit for cvs switch parts of circ...\n",
              "4  85389000  lv tmd pd trip unit for cvs parts of circuitbr..."
            ]
          },
          "metadata": {},
          "execution_count": 4
        }
      ]
    },
    {
      "cell_type": "code",
      "metadata": {
        "colab": {
          "base_uri": "https://localhost:8080/"
        },
        "id": "946bc895",
        "outputId": "90d53aab-0f91-47ad-c1d9-fd4ae82bf09e"
      },
      "source": [
        "df['label'].value_counts()"
      ],
      "id": "946bc895",
      "execution_count": null,
      "outputs": [
        {
          "output_type": "execute_result",
          "data": {
            "text/plain": [
              "85389000    2936\n",
              "85177090    2581\n",
              "85369090    2438\n",
              "39269099    2189\n",
              "73181500    2033\n",
              "85366990    1944\n",
              "85238090    1720\n",
              "85364900    1714\n",
              "87089900    1673\n",
              "33041000    1605\n",
              "87082900    1451\n",
              "84713010    1331\n",
              "Name: label, dtype: int64"
            ]
          },
          "metadata": {},
          "execution_count": 5
        }
      ]
    },
    {
      "cell_type": "markdown",
      "metadata": {
        "id": "fbb07adc"
      },
      "source": [
        "### Text preprocessing and Cleanup"
      ],
      "id": "fbb07adc"
    },
    {
      "cell_type": "code",
      "metadata": {
        "colab": {
          "base_uri": "https://localhost:8080/"
        },
        "id": "b052908d",
        "outputId": "791467ab-fa99-46f3-c8be-6136e699d123"
      },
      "source": [
        "from sklearn.preprocessing import LabelEncoder\n",
        "\n",
        "encoder = LabelEncoder()\n",
        "encoder.fit(df['label'])\n",
        "df['label'] = encoder.transform(df['label'])\n",
        "encoder.classes_"
      ],
      "id": "b052908d",
      "execution_count": null,
      "outputs": [
        {
          "output_type": "execute_result",
          "data": {
            "text/plain": [
              "array([33041000, 39269099, 73181500, 84713010, 85177090, 85238090,\n",
              "       85364900, 85366990, 85369090, 85389000, 87082900, 87089900])"
            ]
          },
          "metadata": {},
          "execution_count": 6
        }
      ]
    },
    {
      "cell_type": "code",
      "metadata": {
        "id": "6c931f10"
      },
      "source": [
        "inputs, labels = df['text'], df['label']"
      ],
      "id": "6c931f10",
      "execution_count": null,
      "outputs": []
    },
    {
      "cell_type": "code",
      "metadata": {
        "id": "dd508e88"
      },
      "source": [
        "from sklearn.model_selection import StratifiedShuffleSplit\n",
        "split = StratifiedShuffleSplit(n_splits=1, test_size=0.2, random_state=42)\n",
        "for train_index, test_index in split.split(inputs, labels):\n",
        "    X_train, y_train = inputs[train_index], labels[train_index]\n",
        "    X_test, y_test = inputs[test_index], labels[test_index]"
      ],
      "id": "dd508e88",
      "execution_count": null,
      "outputs": []
    },
    {
      "cell_type": "code",
      "metadata": {
        "id": "54bd7da7"
      },
      "source": [
        "# from sklearn.model_selection import train_test_split\n",
        "\n",
        "# X_train, X_test, y_train, y_test = train_test_split(inputs, labels, test_size=0.2, random_state=42)\n",
        "# print(X_train.shape, X_test.shape)"
      ],
      "id": "54bd7da7",
      "execution_count": null,
      "outputs": []
    },
    {
      "cell_type": "code",
      "metadata": {
        "id": "6c357c93"
      },
      "source": [
        "# Lets do some cleaning of this text\n",
        "def clean_it(text):\n",
        "    # Replacing possible issues with data. We can add or reduce the replacemtent in this chain\n",
        "    s = str(text).strip().replace('  ',' ').replace('   ', ' ').replace('    ', ' ').lower()\n",
        "    return s\n",
        "\n",
        "# Now lets define a small function where we can use above cleaning on datasets\n",
        "def clean_data(data):\n",
        "    # Defining the new data\n",
        "    text = data\n",
        "    # cleaning it\n",
        "    text = text.apply(lambda x: clean_it(x))\n",
        "    return text"
      ],
      "id": "6c357c93",
      "execution_count": null,
      "outputs": []
    },
    {
      "cell_type": "code",
      "metadata": {
        "colab": {
          "base_uri": "https://localhost:8080/"
        },
        "id": "f79eba53",
        "outputId": "8d8ab9b8-8b42-46de-ecfc-c9edc5b2d1ce"
      },
      "source": [
        "X_train_cleaned = clean_data(X_train)\n",
        "X_test_cleaned = clean_data(X_test)\n",
        "X_train_cleaned.head()"
      ],
      "id": "f79eba53",
      "execution_count": null,
      "outputs": [
        {
          "output_type": "execute_result",
          "data": {
            "text/plain": [
              "21277                                          frzhaemblem\n",
              "12481    afd pn  mswp zpf connector list sl no not foe ...\n",
              "5510         mobile lcd  unbranded integralpophone woboard\n",
              "984      fxsmtes base unit programmable controller japa...\n",
              "16802                     issue esitronic  dvd a part no p\n",
              "Name: text, dtype: object"
            ]
          },
          "metadata": {},
          "execution_count": 11
        }
      ]
    },
    {
      "cell_type": "markdown",
      "metadata": {
        "id": "d22284f4"
      },
      "source": [
        "We are using Bag of 1 and 2 gram for vectorization."
      ],
      "id": "d22284f4"
    },
    {
      "cell_type": "code",
      "metadata": {
        "colab": {
          "base_uri": "https://localhost:8080/"
        },
        "id": "94d5e330",
        "outputId": "880e4b16-88ca-48ce-8d14-62ec66179b0f"
      },
      "source": [
        "from sklearn.feature_extraction.text import CountVectorizer\n",
        "\n",
        "vect = CountVectorizer(stop_words='english', ngram_range=(1, 2))\n",
        "X_train_dtm = vect.fit_transform(X_train_cleaned)\n",
        "X_test_dtm = vect.transform(X_test_cleaned)\n",
        "X_train_dtm.shape, X_test_dtm.shape"
      ],
      "id": "94d5e330",
      "execution_count": null,
      "outputs": [
        {
          "output_type": "execute_result",
          "data": {
            "text/plain": [
              "((18892, 39294), (4723, 39294))"
            ]
          },
          "metadata": {},
          "execution_count": 12
        }
      ]
    },
    {
      "cell_type": "markdown",
      "metadata": {
        "id": "5f9e1af6"
      },
      "source": [
        "### Model selection"
      ],
      "id": "5f9e1af6"
    },
    {
      "cell_type": "code",
      "metadata": {
        "colab": {
          "base_uri": "https://localhost:8080/"
        },
        "id": "ecbd0d1c",
        "outputId": "57efe337-73e0-4861-b1d5-54f4701cd947"
      },
      "source": [
        "from sklearn.naive_bayes import MultinomialNB\n",
        "nb = MultinomialNB() # instantiate a Multinomial Naive Bayes model\n",
        "%time nb.fit(X_train_dtm, y_train) # train the model(timing it with an IPython \"magic command\")\n",
        "y_pred_class = nb.predict(X_test_dtm) # make class predictions for X_test_dtm"
      ],
      "id": "ecbd0d1c",
      "execution_count": null,
      "outputs": [
        {
          "output_type": "stream",
          "name": "stdout",
          "text": [
            "CPU times: user 27.2 ms, sys: 9.99 ms, total: 37.2 ms\n",
            "Wall time: 38.5 ms\n"
          ]
        }
      ]
    },
    {
      "cell_type": "code",
      "metadata": {
        "colab": {
          "base_uri": "https://localhost:8080/"
        },
        "id": "b9af5f76",
        "outputId": "6aa02976-a047-40c6-a169-1d73ed0fb633"
      },
      "source": [
        "from sklearn.metrics import accuracy_score\n",
        "\n",
        "accuracy_score(y_test, y_pred_class)"
      ],
      "id": "b9af5f76",
      "execution_count": null,
      "outputs": [
        {
          "output_type": "execute_result",
          "data": {
            "text/plain": [
              "0.9129790387465594"
            ]
          },
          "metadata": {},
          "execution_count": 14
        }
      ]
    },
    {
      "cell_type": "code",
      "metadata": {
        "colab": {
          "base_uri": "https://localhost:8080/"
        },
        "id": "b6e60637",
        "outputId": "6a8198c3-de7e-4043-a482-6faa5eaa2f2f"
      },
      "source": [
        "from sklearn.metrics import f1_score\n",
        "\n",
        "f1_score(y_test, y_pred_class, average='macro')"
      ],
      "id": "b6e60637",
      "execution_count": null,
      "outputs": [
        {
          "output_type": "execute_result",
          "data": {
            "text/plain": [
              "0.9178137118885111"
            ]
          },
          "metadata": {},
          "execution_count": 15
        }
      ]
    },
    {
      "cell_type": "code",
      "metadata": {
        "id": "b6a5c2cc"
      },
      "source": [
        "y_pred_score = nb.predict_proba(X_test_dtm)"
      ],
      "id": "b6a5c2cc",
      "execution_count": null,
      "outputs": []
    },
    {
      "cell_type": "code",
      "metadata": {
        "colab": {
          "base_uri": "https://localhost:8080/"
        },
        "id": "d557bcc9",
        "outputId": "149f9d46-16ed-48a6-cc02-177a674cc05b"
      },
      "source": [
        "from sklearn.metrics import roc_auc_score\n",
        "\n",
        "roc_auc_score(y_test, y_pred_score, multi_class='ovo')"
      ],
      "id": "d557bcc9",
      "execution_count": null,
      "outputs": [
        {
          "output_type": "execute_result",
          "data": {
            "text/plain": [
              "0.9932879119012563"
            ]
          },
          "metadata": {},
          "execution_count": 17
        }
      ]
    },
    {
      "cell_type": "code",
      "metadata": {
        "id": "699ea594"
      },
      "source": [
        "from sklearn.model_selection import cross_val_score\n",
        "\n",
        "nb_scores = cross_val_score(nb, X_train_dtm, y_train, scoring='f1_macro', cv=5)"
      ],
      "id": "699ea594",
      "execution_count": null,
      "outputs": []
    },
    {
      "cell_type": "code",
      "metadata": {
        "colab": {
          "base_uri": "https://localhost:8080/"
        },
        "id": "7e394daf",
        "outputId": "1fe5cb3d-df4f-4142-b303-d834dd8b4ed8"
      },
      "source": [
        "def display_scores(scores):\n",
        "    print('Scores', scores)\n",
        "    print('Mean:', scores.mean())\n",
        "    print('Std:', scores.std())\n",
        "display_scores(nb_scores)"
      ],
      "id": "7e394daf",
      "execution_count": null,
      "outputs": [
        {
          "output_type": "stream",
          "name": "stdout",
          "text": [
            "Scores [0.90861662 0.89976967 0.90494859 0.91391525 0.91617767]\n",
            "Mean: 0.9086855579384153\n",
            "Std: 0.005948850889121619\n"
          ]
        }
      ]
    },
    {
      "cell_type": "code",
      "metadata": {
        "colab": {
          "base_uri": "https://localhost:8080/"
        },
        "id": "2ece4f0c",
        "outputId": "72e85a9f-aac9-47ed-fe54-2f99cc53d2cf"
      },
      "source": [
        "from sklearn.metrics import confusion_matrix\n",
        "\n",
        "confusion_matrix(y_test, y_pred_class)"
      ],
      "id": "2ece4f0c",
      "execution_count": null,
      "outputs": [
        {
          "output_type": "execute_result",
          "data": {
            "text/plain": [
              "array([[321,   0,   0,   0,   0,   0,   0,   0,   0,   0,   0,   0],\n",
              "       [  3, 351,  23,   0,   4,   0,   0,   6,   6,  15,  12,  18],\n",
              "       [  0,   9, 367,   0,  10,   0,   1,   1,   1,   8,   0,  10],\n",
              "       [  0,   3,   0, 263,   0,   0,   0,   0,   0,   0,   0,   0],\n",
              "       [  0,   2,   7,   0, 499,   0,   0,   0,   0,   6,   0,   2],\n",
              "       [  0,   1,   0,   0,   0, 341,   0,   0,   1,   1,   0,   0],\n",
              "       [  0,   0,   0,   0,   0,   0, 332,   1,   6,   3,   1,   0],\n",
              "       [  0,   6,   3,   0,   1,   0,   6, 336,  21,  13,   0,   3],\n",
              "       [  0,   3,   2,   0,   4,   0,  38,  29, 399,  10,   0,   2],\n",
              "       [  0,  11,   7,   0,   1,   0,   1,  10,  20, 531,   3,   3],\n",
              "       [  0,   3,   1,   0,   0,   0,   0,   0,   1,   0, 270,  15],\n",
              "       [  0,   7,  10,   0,   2,   0,   0,   0,   1,   3,  10, 302]])"
            ]
          },
          "metadata": {},
          "execution_count": 20
        }
      ]
    },
    {
      "cell_type": "markdown",
      "metadata": {
        "id": "33354ff7"
      },
      "source": [
        "Everything looks good till now\n",
        "\n",
        "This is the baseline model"
      ],
      "id": "33354ff7"
    },
    {
      "cell_type": "code",
      "metadata": {
        "colab": {
          "base_uri": "https://localhost:8080/"
        },
        "id": "c9180985",
        "outputId": "35be849b-8d31-482d-8458-d22166e81573"
      },
      "source": [
        "# Reducing the dimensionality in feature vectors\n",
        "vect = CountVectorizer(stop_words='english', ngram_range=(1, 2), max_features=20000)\n",
        "X_train_dtm = vect.fit_transform(X_train_cleaned)\n",
        "X_test_dtm = vect.transform(X_test_cleaned)\n",
        "X_train_dtm.shape, X_test_dtm.shape"
      ],
      "id": "c9180985",
      "execution_count": null,
      "outputs": [
        {
          "output_type": "execute_result",
          "data": {
            "text/plain": [
              "((18892, 20000), (4723, 20000))"
            ]
          },
          "metadata": {},
          "execution_count": 21
        }
      ]
    },
    {
      "cell_type": "code",
      "metadata": {
        "colab": {
          "base_uri": "https://localhost:8080/"
        },
        "id": "df6df933",
        "outputId": "8bf650d7-ede1-49c8-a6ba-fb653a024300"
      },
      "source": [
        "nb = MultinomialNB() # instantiate a Multinomial Naive Bayes model\n",
        "%time nb.fit(X_train_dtm, y_train) # train the model(timing it with an IPython \"magic command\")\n",
        "y_pred_class = nb.predict(X_test_dtm) # make class predictions for X_test_dtm\n",
        "print(\"F1 score: \", f1_score(y_test, y_pred_class, average='macro'))"
      ],
      "id": "df6df933",
      "execution_count": null,
      "outputs": [
        {
          "output_type": "stream",
          "name": "stdout",
          "text": [
            "CPU times: user 21.9 ms, sys: 385 µs, total: 22.3 ms\n",
            "Wall time: 22.4 ms\n",
            "F1 score:  0.9062595618278818\n"
          ]
        }
      ]
    },
    {
      "cell_type": "code",
      "metadata": {
        "colab": {
          "base_uri": "https://localhost:8080/"
        },
        "id": "d97de442",
        "outputId": "6e0737d0-635b-4811-e0c5-2dc9b930f689"
      },
      "source": [
        "nb_scores = cross_val_score(nb, X_train_dtm, y_train, scoring='f1_macro', cv=5)\n",
        "display_scores(nb_scores)"
      ],
      "id": "d97de442",
      "execution_count": null,
      "outputs": [
        {
          "output_type": "stream",
          "name": "stdout",
          "text": [
            "Scores [0.90937372 0.90327089 0.90471609 0.91413329 0.91727571]\n",
            "Mean: 0.9097539387606577\n",
            "Std: 0.005353694422537561\n"
          ]
        }
      ]
    },
    {
      "cell_type": "markdown",
      "metadata": {
        "id": "94574a5d"
      },
      "source": [
        "We can conclude that reducing the feature vector size with the Naive Bayes classifier wasn't useful for this dataset"
      ],
      "id": "94574a5d"
    },
    {
      "cell_type": "markdown",
      "metadata": {
        "id": "ab410a92"
      },
      "source": [
        "#### Logistic Regression"
      ],
      "id": "ab410a92"
    },
    {
      "cell_type": "code",
      "metadata": {
        "id": "26b25114"
      },
      "source": [
        "vect = CountVectorizer(stop_words='english', ngram_range=(1, 2))\n",
        "X_train_dtm = vect.fit_transform(X_train_cleaned)\n",
        "X_test_dtm = vect.transform(X_test_cleaned)"
      ],
      "id": "26b25114",
      "execution_count": null,
      "outputs": []
    },
    {
      "cell_type": "code",
      "metadata": {
        "scrolled": true,
        "colab": {
          "base_uri": "https://localhost:8080/"
        },
        "id": "a918de5e",
        "outputId": "86b0f71a-423c-4bbf-a33a-75ab6514dfe8"
      },
      "source": [
        "from sklearn.linear_model import LogisticRegression\n",
        "\n",
        "log_reg = LogisticRegression(class_weight=\"balanced\", max_iter=300) # instantiate a logistic regression model\n",
        "%time log_reg.fit(X_train_dtm, y_train) # fit the model with training data\n",
        "\n",
        "# Make predictions on train data\n",
        "y_pred_class = log_reg.predict(X_test_dtm)\n",
        "\n",
        "# calculate evaluation measures:\n",
        "print(\"F1 score: \", f1_score(y_test, y_pred_class, average='macro'))\n",
        "display_scores(cross_val_score(log_reg, X_train_dtm, y_train, scoring='f1_macro', cv=5))\n",
        "# confusion_matrix(y_test, y_pred_class)"
      ],
      "id": "a918de5e",
      "execution_count": null,
      "outputs": [
        {
          "output_type": "stream",
          "name": "stdout",
          "text": [
            "CPU times: user 19.5 s, sys: 18.8 s, total: 38.3 s\n",
            "Wall time: 20 s\n",
            "F1 score:  0.9493102099137518\n",
            "Scores [0.94143276 0.93692653 0.93692777 0.94486279 0.94684242]\n",
            "Mean: 0.9413984540698384\n",
            "Std: 0.0040404112951348365\n"
          ]
        }
      ]
    },
    {
      "cell_type": "code",
      "metadata": {
        "colab": {
          "base_uri": "https://localhost:8080/"
        },
        "id": "19562619",
        "outputId": "93eadabd-4976-437e-ec74-3c513db49c0f"
      },
      "source": [
        "confusion_matrix(y_test, y_pred_class)"
      ],
      "id": "19562619",
      "execution_count": null,
      "outputs": [
        {
          "output_type": "execute_result",
          "data": {
            "text/plain": [
              "array([[321,   0,   0,   0,   0,   0,   0,   0,   0,   0,   0,   0],\n",
              "       [  2, 395,   6,   0,   5,   0,   0,   5,   2,  13,   2,   8],\n",
              "       [  0,   6, 384,   0,   2,   0,   0,   0,   0,  12,   0,   3],\n",
              "       [  0,   3,   0, 262,   0,   0,   0,   0,   0,   1,   0,   0],\n",
              "       [  0,   8,   1,   0, 501,   0,   0,   0,   0,   6,   0,   0],\n",
              "       [  0,   2,   0,   0,   0, 341,   0,   0,   0,   1,   0,   0],\n",
              "       [  0,   2,   0,   0,   0,   0, 333,   2,   0,   5,   1,   0],\n",
              "       [  0,   7,   1,   0,   0,   0,   2, 349,  18,  11,   0,   1],\n",
              "       [  0,   8,   3,   0,   1,   0,   7,  18, 438,  12,   0,   0],\n",
              "       [  0,  15,   2,   0,   0,   0,   1,   4,   6, 559,   0,   0],\n",
              "       [  0,   2,   0,   0,   0,   0,   0,   0,   0,   2, 271,  15],\n",
              "       [  0,   9,   1,   0,   0,   0,   0,   0,   0,   8,   7, 310]])"
            ]
          },
          "metadata": {},
          "execution_count": 26
        }
      ]
    },
    {
      "cell_type": "markdown",
      "metadata": {
        "id": "fa165c86"
      },
      "source": [
        "I tried reducing the vector size but it didn't improve the performance. So, sparse feature set is not the reason behind these errors."
      ],
      "id": "fa165c86"
    },
    {
      "cell_type": "markdown",
      "metadata": {
        "id": "55d37b33"
      },
      "source": [
        "#### SVM"
      ],
      "id": "55d37b33"
    },
    {
      "cell_type": "code",
      "metadata": {
        "scrolled": true,
        "colab": {
          "base_uri": "https://localhost:8080/"
        },
        "id": "1871af11",
        "outputId": "3ca58315-dbe9-4c17-9ddc-a6ef215506c2"
      },
      "source": [
        "from sklearn.svm import LinearSVC\n",
        "\n",
        "svm_clf = LinearSVC(class_weight='balanced', max_iter=1500, ) # instantiate a Linear SVM model\n",
        "%time svm_clf.fit(X_train_dtm, y_train, ) # fit the model with training data\n",
        "\n",
        "# Make predictions on train data\n",
        "y_pred_class = svm_clf.predict(X_test_dtm)\n",
        "\n",
        "# calculate evaluation measures:\n",
        "print(\"F1 score: \", f1_score(y_test, y_pred_class, average='macro'))\n",
        "display_scores(cross_val_score(log_reg, X_train_dtm, y_train, scoring='f1_macro', cv=5))\n",
        "# confusion_matrix(y_test, y_pred_class)"
      ],
      "id": "1871af11",
      "execution_count": null,
      "outputs": [
        {
          "output_type": "stream",
          "name": "stdout",
          "text": [
            "CPU times: user 4.89 s, sys: 6.33 ms, total: 4.89 s\n",
            "Wall time: 4.87 s\n",
            "F1 score:  0.9531366854417208\n",
            "Scores [0.94143276 0.93692653 0.93692777 0.94486279 0.94684242]\n",
            "Mean: 0.9413984540698384\n",
            "Std: 0.0040404112951348365\n"
          ]
        }
      ]
    },
    {
      "cell_type": "code",
      "metadata": {
        "id": "a0acd662",
        "colab": {
          "base_uri": "https://localhost:8080/"
        },
        "outputId": "053add91-2263-4ced-f585-b9981e580cad"
      },
      "source": [
        "confusion_matrix(y_test, y_pred_class, labels = np.arange(0, 12, 1))"
      ],
      "id": "a0acd662",
      "execution_count": null,
      "outputs": [
        {
          "output_type": "execute_result",
          "data": {
            "text/plain": [
              "array([[321,   0,   0,   0,   0,   0,   0,   0,   0,   0,   0,   0],\n",
              "       [  2, 397,   7,   1,   5,   0,   0,   4,   3,   9,   3,   7],\n",
              "       [  0,  12, 382,   0,   2,   0,   0,   0,   1,   7,   0,   3],\n",
              "       [  0,   1,   0, 265,   0,   0,   0,   0,   0,   0,   0,   0],\n",
              "       [  0,   5,   1,   0, 505,   0,   0,   0,   0,   5,   0,   0],\n",
              "       [  0,   2,   0,   0,   0, 341,   0,   0,   0,   1,   0,   0],\n",
              "       [  0,   2,   0,   0,   0,   0, 336,   2,   0,   2,   0,   1],\n",
              "       [  0,  11,   2,   0,   2,   0,   2, 343,  20,   9,   0,   0],\n",
              "       [  0,  13,   3,   0,   2,   0,   4,  11, 448,   6,   0,   0],\n",
              "       [  0,  14,   2,   0,   0,   0,   1,   2,   6, 560,   2,   0],\n",
              "       [  0,   0,   1,   0,   0,   0,   0,   0,   0,   1, 274,  14],\n",
              "       [  0,   6,   3,   0,   0,   0,   0,   0,   0,   4,   8, 314]])"
            ]
          },
          "metadata": {},
          "execution_count": 28
        }
      ]
    },
    {
      "cell_type": "markdown",
      "metadata": {
        "id": "99db4c10"
      },
      "source": [
        "LinearSVM is our baseline model with F1 score of 0.953 on test set."
      ],
      "id": "99db4c10"
    },
    {
      "cell_type": "markdown",
      "metadata": {
        "id": "fcf723f3"
      },
      "source": [
        "I also looked into if the model is suffering from unbalanced dataset problem. While the dataset is imbalanced it is not affecting the model. I have used hyperparameter `class_weight: balanced`. If it was affecting model's performance i could look into assigning class weight manually or sampling dataset."
      ],
      "id": "fcf723f3"
    },
    {
      "cell_type": "markdown",
      "metadata": {
        "id": "5e239b73"
      },
      "source": [
        "### Wordembeddings"
      ],
      "id": "5e239b73"
    },
    {
      "cell_type": "markdown",
      "metadata": {
        "id": "46fb01aa"
      },
      "source": [
        "I used pretrained embedding - `Word2Vec`. But the vocabulary overlap of word2vec and our corpus is less. Nonetheless, it gave 0.83 __F1-score__ on test data."
      ],
      "id": "46fb01aa"
    },
    {
      "cell_type": "markdown",
      "metadata": {
        "id": "09e60d2d"
      },
      "source": [
        "### Subembeddings and fastText"
      ],
      "id": "09e60d2d"
    },
    {
      "cell_type": "code",
      "metadata": {
        "id": "d80f9ce4"
      },
      "source": [
        "from sklearn.model_selection import StratifiedShuffleSplit\n",
        "split = StratifiedShuffleSplit(n_splits=1, test_size=0.2, random_state=42)\n",
        "for train_index, test_index in split.split(df, df[\"label\"]):\n",
        "    train_df = df.loc[train_index]\n",
        "    test_df = df.loc[test_index]"
      ],
      "id": "d80f9ce4",
      "execution_count": null,
      "outputs": []
    },
    {
      "cell_type": "code",
      "metadata": {
        "id": "2ff0baa1"
      },
      "source": [
        "# Lets do some cleaning of this text\n",
        "def clean_it(text,normalize=True):\n",
        "    # Replacing possible issues with data. We can add or reduce the replacemtent in this chain\n",
        "    s = str(text).strip().replace('  ',' ').replace('   ', ' ').replace('    ', ' ').lower()\n",
        "    return s\n",
        "\n",
        "# Now lets define a small function where we can use above cleaning on datasets\n",
        "def clean_df(data, cleanit= False, label_prefix='__label__'):\n",
        "    # Defining the new data\n",
        "    df = data[['text']].copy(deep=True)\n",
        "    df['label'] = label_prefix + data['label'].astype(str)\n",
        "    \n",
        "    # cleaning it\n",
        "    if cleanit:\n",
        "        df['text'] = df['text'].apply(lambda x: clean_it(x))\n",
        "            \n",
        "    return df\n"
      ],
      "id": "2ff0baa1",
      "execution_count": null,
      "outputs": []
    },
    {
      "cell_type": "code",
      "metadata": {
        "colab": {
          "base_uri": "https://localhost:8080/"
        },
        "id": "d1361a01",
        "outputId": "fc862c13-da52-477e-e3bd-603e1a1496c6"
      },
      "source": [
        "%%time\n",
        "# Transform the datasets using the above clean functions\n",
        "df_train_cleaned = clean_df(train_df, True)\n",
        "df_test_cleaned = clean_df(test_df, True)"
      ],
      "id": "d1361a01",
      "execution_count": null,
      "outputs": [
        {
          "output_type": "stream",
          "name": "stdout",
          "text": [
            "CPU times: user 64 ms, sys: 3.08 ms, total: 67.1 ms\n",
            "Wall time: 82.4 ms\n"
          ]
        }
      ]
    },
    {
      "cell_type": "code",
      "metadata": {
        "id": "a2d45171"
      },
      "source": [
        "import csv\n",
        "\n",
        "df_train_cleaned.to_csv('train.txt', header=None, index=False, sep = ' ', quoting=csv.QUOTE_NONE, quotechar=\"\", escapechar=\" \")\n",
        "df_test_cleaned.to_csv('test.txt', header=None, index=False, sep = ' ', quoting=csv.QUOTE_NONE, quotechar=\"\", escapechar=\" \")"
      ],
      "id": "a2d45171",
      "execution_count": null,
      "outputs": []
    },
    {
      "cell_type": "code",
      "metadata": {
        "colab": {
          "base_uri": "https://localhost:8080/"
        },
        "id": "m0YPLJ2VV-D8",
        "outputId": "a28fb3b4-4149-4002-c489-62dcbd8c84ff"
      },
      "source": [
        "!pip install fasttext==0.9.2"
      ],
      "id": "m0YPLJ2VV-D8",
      "execution_count": null,
      "outputs": [
        {
          "output_type": "stream",
          "name": "stdout",
          "text": [
            "Collecting fasttext==0.9.2\n",
            "  Downloading fasttext-0.9.2.tar.gz (68 kB)\n",
            "\u001b[?25l\r\u001b[K     |████▊                           | 10 kB 23.7 MB/s eta 0:00:01\r\u001b[K     |█████████▌                      | 20 kB 10.2 MB/s eta 0:00:01\r\u001b[K     |██████████████▎                 | 30 kB 8.2 MB/s eta 0:00:01\r\u001b[K     |███████████████████             | 40 kB 7.5 MB/s eta 0:00:01\r\u001b[K     |███████████████████████▉        | 51 kB 4.3 MB/s eta 0:00:01\r\u001b[K     |████████████████████████████▋   | 61 kB 4.5 MB/s eta 0:00:01\r\u001b[K     |████████████████████████████████| 68 kB 2.7 MB/s \n",
            "\u001b[?25hCollecting pybind11>=2.2\n",
            "  Using cached pybind11-2.8.1-py2.py3-none-any.whl (208 kB)\n",
            "Requirement already satisfied: setuptools>=0.7.0 in /usr/local/lib/python3.7/dist-packages (from fasttext==0.9.2) (57.4.0)\n",
            "Requirement already satisfied: numpy in /usr/local/lib/python3.7/dist-packages (from fasttext==0.9.2) (1.19.5)\n",
            "Building wheels for collected packages: fasttext\n",
            "  Building wheel for fasttext (setup.py) ... \u001b[?25l\u001b[?25hdone\n",
            "  Created wheel for fasttext: filename=fasttext-0.9.2-cp37-cp37m-linux_x86_64.whl size=3127258 sha256=9b57274e2fe47bda26ede6dec2a6f714da2ead2399de07b282215e38a18cf714\n",
            "  Stored in directory: /root/.cache/pip/wheels/4e/ca/bf/b020d2be95f7641801a6597a29c8f4f19e38f9c02a345bab9b\n",
            "Successfully built fasttext\n",
            "Installing collected packages: pybind11, fasttext\n",
            "Successfully installed fasttext-0.9.2 pybind11-2.8.1\n"
          ]
        }
      ]
    },
    {
      "cell_type": "code",
      "metadata": {
        "id": "tOvnFUHIV3CK"
      },
      "source": [
        "import fasttext"
      ],
      "id": "tOvnFUHIV3CK",
      "execution_count": null,
      "outputs": []
    },
    {
      "cell_type": "code",
      "metadata": {
        "scrolled": true,
        "colab": {
          "base_uri": "https://localhost:8080/"
        },
        "id": "60b6ad2f",
        "outputId": "2a9d562c-6f16-46c0-ca09-578382163873"
      },
      "source": [
        "%%time\n",
        "## Using fastText for feature extraction and training\n",
        "from fasttext.FastText import train_supervised\n",
        "\n",
        "model = train_supervised(input='train.txt', label=\"__label__\", lr=0.75, ws=21, epoch=200, loss='ova', wordNgrams=2, dim=100, thread=2, verbose=100)"
      ],
      "id": "60b6ad2f",
      "execution_count": null,
      "outputs": [
        {
          "output_type": "stream",
          "name": "stdout",
          "text": [
            "CPU times: user 1min 2s, sys: 525 ms, total: 1min 3s\n",
            "Wall time: 32.7 s\n"
          ]
        }
      ]
    },
    {
      "cell_type": "code",
      "metadata": {
        "colab": {
          "base_uri": "https://localhost:8080/"
        },
        "id": "92fdb0c9",
        "outputId": "92b4872a-32ce-47b2-e0b5-ebf485ff947d"
      },
      "source": [
        "results = model.test('test.txt')\n",
        "print(f\"Test Samples: {results[0]} Precision@ : {results[1]*100:2.4f} Recall : {results[2]*100:2.4f}\")"
      ],
      "id": "92fdb0c9",
      "execution_count": null,
      "outputs": [
        {
          "output_type": "stream",
          "name": "stdout",
          "text": [
            "Test Samples: 4723 Precision@ : 94.8973 Recall : 94.8973\n"
          ]
        }
      ]
    },
    {
      "cell_type": "code",
      "metadata": {
        "colab": {
          "base_uri": "https://localhost:8080/",
          "height": 207
        },
        "id": "vSHFi-NwWNDr",
        "outputId": "2bfdb030-ae30-4f74-dbb6-413c7363e215"
      },
      "source": [
        "testing_data = pd.read_csv('test_set.csv', encoding='latin-1')\n",
        "testing_data.head()"
      ],
      "id": "vSHFi-NwWNDr",
      "execution_count": null,
      "outputs": [
        {
          "output_type": "execute_result",
          "data": {
            "text/html": [
              "<div>\n",
              "<style scoped>\n",
              "    .dataframe tbody tr th:only-of-type {\n",
              "        vertical-align: middle;\n",
              "    }\n",
              "\n",
              "    .dataframe tbody tr th {\n",
              "        vertical-align: top;\n",
              "    }\n",
              "\n",
              "    .dataframe thead th {\n",
              "        text-align: right;\n",
              "    }\n",
              "</style>\n",
              "<table border=\"1\" class=\"dataframe\">\n",
              "  <thead>\n",
              "    <tr style=\"text-align: right;\">\n",
              "      <th></th>\n",
              "      <th>text</th>\n",
              "    </tr>\n",
              "  </thead>\n",
              "  <tbody>\n",
              "    <tr>\n",
              "      <th>0</th>\n",
              "      <td>lv tmd pd trip unit for nh parts of circuit br...</td>\n",
              "    </tr>\n",
              "    <tr>\n",
              "      <th>1</th>\n",
              "      <td>module tm analog outputs analog output expansi...</td>\n",
              "    </tr>\n",
              "    <tr>\n",
              "      <th>2</th>\n",
              "      <td>command group t iii mechanismt p parts forcir...</td>\n",
              "    </tr>\n",
              "    <tr>\n",
              "      <th>3</th>\n",
              "      <td>parts of relayelectrical contact  issu e f xxup</td>\n",
              "    </tr>\n",
              "    <tr>\n",
              "      <th>4</th>\n",
              "      <td>parts for programmable logic controllers  dm  ...</td>\n",
              "    </tr>\n",
              "  </tbody>\n",
              "</table>\n",
              "</div>"
            ],
            "text/plain": [
              "                                                text\n",
              "0  lv tmd pd trip unit for nh parts of circuit br...\n",
              "1  module tm analog outputs analog output expansi...\n",
              "2   command group t iii mechanismt p parts forcir...\n",
              "3    parts of relayelectrical contact  issu e f xxup\n",
              "4  parts for programmable logic controllers  dm  ..."
            ]
          },
          "metadata": {},
          "execution_count": 39
        }
      ]
    },
    {
      "cell_type": "code",
      "metadata": {
        "id": "iR8D8aKhW0br"
      },
      "source": [
        "X = testing_data['text']"
      ],
      "id": "iR8D8aKhW0br",
      "execution_count": null,
      "outputs": []
    },
    {
      "cell_type": "code",
      "metadata": {
        "id": "eoUc2Wj9XNgj"
      },
      "source": [
        "X_cleaned = list(clean_data(X))"
      ],
      "id": "eoUc2Wj9XNgj",
      "execution_count": null,
      "outputs": []
    },
    {
      "cell_type": "code",
      "metadata": {
        "id": "_LE82nsXWL8R"
      },
      "source": [
        "test_predictions, _ = model.predict(X_cleaned)"
      ],
      "id": "_LE82nsXWL8R",
      "execution_count": null,
      "outputs": []
    },
    {
      "cell_type": "code",
      "metadata": {
        "colab": {
          "base_uri": "https://localhost:8080/"
        },
        "id": "WaUpgOBjYvcx",
        "outputId": "738b147d-89a2-4337-8b72-893e6709a483"
      },
      "source": [
        "encoder.inverse_transform([9])"
      ],
      "id": "WaUpgOBjYvcx",
      "execution_count": null,
      "outputs": [
        {
          "output_type": "execute_result",
          "data": {
            "text/plain": [
              "array([85389000])"
            ]
          },
          "metadata": {},
          "execution_count": 43
        }
      ]
    },
    {
      "cell_type": "code",
      "metadata": {
        "id": "IsD7cFYFX5JX"
      },
      "source": [
        "test_predictions = [int(str(prediction[0])[-1]) for prediction in test_predictions]"
      ],
      "id": "IsD7cFYFX5JX",
      "execution_count": null,
      "outputs": []
    },
    {
      "cell_type": "code",
      "metadata": {
        "id": "VYB6Up9vZXvo"
      },
      "source": [
        "test_labels = encoder.inverse_transform(test_predictions)"
      ],
      "id": "VYB6Up9vZXvo",
      "execution_count": null,
      "outputs": []
    },
    {
      "cell_type": "code",
      "metadata": {
        "colab": {
          "base_uri": "https://localhost:8080/"
        },
        "id": "SwYOEc1cZkjB",
        "outputId": "eaf4e8d9-63e7-48c2-c058-5329f197c531"
      },
      "source": [
        "test_labels"
      ],
      "id": "SwYOEc1cZkjB",
      "execution_count": null,
      "outputs": [
        {
          "output_type": "execute_result",
          "data": {
            "text/plain": [
              "array([85389000, 85389000, 85389000, ..., 84713010, 84713010, 84713010])"
            ]
          },
          "metadata": {},
          "execution_count": 46
        }
      ]
    },
    {
      "cell_type": "code",
      "metadata": {
        "id": "r121-eKhZGOx"
      },
      "source": [
        "test_labels = pd.Series(test_labels, name='labels')"
      ],
      "id": "r121-eKhZGOx",
      "execution_count": null,
      "outputs": []
    },
    {
      "cell_type": "code",
      "metadata": {
        "id": "9koM3Aa8R3PI"
      },
      "source": [
        "test_labels.to_csv('test_labels.csv', index=None)"
      ],
      "id": "9koM3Aa8R3PI",
      "execution_count": null,
      "outputs": []
    },
    {
      "cell_type": "markdown",
      "metadata": {
        "id": "387cb5c3"
      },
      "source": [
        "Our corpus has a lot of words which are not found(rare) in pretrained embeddings like Word2Vec and Glove. Fasttext is able to achieve good performance on rare words by making use of character level information and also it solves `<OOV>` problem in a way."
      ],
      "id": "387cb5c3"
    },
    {
      "cell_type": "markdown",
      "metadata": {
        "id": "55e67abc"
      },
      "source": [
        "### Using DeepLearning"
      ],
      "id": "55e67abc"
    },
    {
      "cell_type": "markdown",
      "metadata": {
        "id": "69fca04a"
      },
      "source": [
        "I started with trying to use glove oretrained embedding, but as discussed earlier it didn't yeild good results due to rare words in our corpus."
      ],
      "id": "69fca04a"
    },
    {
      "cell_type": "code",
      "metadata": {
        "id": "76220c46",
        "colab": {
          "base_uri": "https://localhost:8080/"
        },
        "outputId": "d2557aff-4be9-4c02-9679-0f672d56bb2c"
      },
      "source": [
        "max(X_train.apply(lambda x: len(x.split())))"
      ],
      "id": "76220c46",
      "execution_count": 51,
      "outputs": [
        {
          "output_type": "execute_result",
          "data": {
            "text/plain": [
              "21"
            ]
          },
          "metadata": {},
          "execution_count": 51
        }
      ]
    },
    {
      "cell_type": "code",
      "metadata": {
        "id": "0a3b4dce"
      },
      "source": [
        "MAX_SEQUENCE_LENGTH = 21\n",
        "MAX_NUM_WORDS = 20000 \n",
        "EMBEDDING_DIM = 100 \n",
        "VALIDATION_SPLIT = 0.2"
      ],
      "id": "0a3b4dce",
      "execution_count": 52,
      "outputs": []
    },
    {
      "cell_type": "code",
      "metadata": {
        "id": "a8e0b780",
        "colab": {
          "base_uri": "https://localhost:8080/"
        },
        "outputId": "9d2b2002-efe8-4662-9872-83d6b79b7d99"
      },
      "source": [
        "from tensorflow import keras\n",
        "from keras.preprocessing.text import Tokenizer\n",
        "\n",
        "tokenizer = Tokenizer(MAX_NUM_WORDS)\n",
        "tokenizer.fit_on_texts(X_train)\n",
        "word_index = tokenizer.word_index\n",
        "train_sequences = tokenizer.texts_to_sequences(X_train)\n",
        "test_sequences = tokenizer.texts_to_sequences(X_test)\n",
        "print(\"There are %s unique tokens\" %len(word_index))"
      ],
      "id": "a8e0b780",
      "execution_count": 53,
      "outputs": [
        {
          "output_type": "stream",
          "name": "stdout",
          "text": [
            "There are 12423 unique tokens\n"
          ]
        }
      ]
    },
    {
      "cell_type": "code",
      "metadata": {
        "id": "40de8087",
        "colab": {
          "base_uri": "https://localhost:8080/"
        },
        "outputId": "21402663-f78b-4f84-bcf8-0242be42635d"
      },
      "source": [
        "from keras.preprocessing.sequence import pad_sequences\n",
        "from tensorflow.keras.utils import to_categorical\n",
        "\n",
        "trainvalid_data = pad_sequences(train_sequences, MAX_SEQUENCE_LENGTH)\n",
        "test_data = pad_sequences(test_sequences, MAX_SEQUENCE_LENGTH)\n",
        "trainvalid_labels = to_categorical(y_train, num_classes=12)\n",
        "test_labels = to_categorical(y_test, num_classes=12)\n",
        "\n",
        "# split the training data into a training set and a validation set\n",
        "indices = np.arange(trainvalid_data.shape[0])\n",
        "np.random.shuffle(indices)\n",
        "trainvalid_data = trainvalid_data[indices]\n",
        "trainvalid_labels = trainvalid_labels[indices]\n",
        "num_validation_samples = int(VALIDATION_SPLIT * trainvalid_data.shape[0])\n",
        "x_train = trainvalid_data[:-num_validation_samples]\n",
        "y_train = trainvalid_labels[:-num_validation_samples]\n",
        "x_val = trainvalid_data[-num_validation_samples:]\n",
        "y_val = trainvalid_labels[-num_validation_samples:]\n",
        "#This is the data we will use for CNN and RNN training\n",
        "print('Splitting the train data into train and valid is done')"
      ],
      "id": "40de8087",
      "execution_count": 54,
      "outputs": [
        {
          "output_type": "stream",
          "name": "stdout",
          "text": [
            "Splitting the train data into train and valid is done\n"
          ]
        }
      ]
    },
    {
      "cell_type": "code",
      "metadata": {
        "id": "b71ddca7",
        "colab": {
          "base_uri": "https://localhost:8080/"
        },
        "outputId": "4c8f7428-572d-4d3a-b30a-affc733f0f8e"
      },
      "source": [
        "from keras.models import Sequential\n",
        "from keras.layers import LSTM, Dense, Embedding\n",
        "\n",
        "print(\"Defining and training an LSTM model, training embedding layer on the fly\")\n",
        "\n",
        "#model\n",
        "rnnmodel = Sequential()\n",
        "rnnmodel.add(Embedding(MAX_NUM_WORDS, 100))\n",
        "rnnmodel.add(LSTM(128, dropout=0.2, recurrent_dropout=0.2))\n",
        "rnnmodel.add(Dense(12, activation='sigmoid'))\n",
        "rnnmodel.compile(loss='categorical_crossentropy',\n",
        "              optimizer='adam',\n",
        "              metrics=['accuracy'])\n",
        "print('Training the RNN')\n",
        "\n",
        "early_stopping_cb = keras.callbacks.EarlyStopping(patience=6, restore_best_weights=True)\n",
        "rnnmodel.fit(x_train, y_train,\n",
        "          batch_size=32,\n",
        "          epochs=20,\n",
        "          validation_data=(x_val, y_val),\n",
        "          callbacks = [early_stopping_cb])\n",
        "score, acc = rnnmodel.evaluate(test_data, test_labels,\n",
        "                            batch_size=16)\n",
        "print('Test accuracy with RNN:', acc)"
      ],
      "id": "b71ddca7",
      "execution_count": 57,
      "outputs": [
        {
          "output_type": "stream",
          "name": "stdout",
          "text": [
            "Defining and training an LSTM model, training embedding layer on the fly\n",
            "Training the RNN\n",
            "Epoch 1/20\n",
            "473/473 [==============================] - 44s 86ms/step - loss: 0.8873 - accuracy: 0.7096 - val_loss: 0.3520 - val_accuracy: 0.8875\n",
            "Epoch 2/20\n",
            "473/473 [==============================] - 45s 95ms/step - loss: 0.2215 - accuracy: 0.9340 - val_loss: 0.2644 - val_accuracy: 0.9224\n",
            "Epoch 3/20\n",
            "473/473 [==============================] - 48s 102ms/step - loss: 0.1009 - accuracy: 0.9708 - val_loss: 0.3073 - val_accuracy: 0.9193\n",
            "Epoch 4/20\n",
            "473/473 [==============================] - 46s 97ms/step - loss: 0.0561 - accuracy: 0.9845 - val_loss: 0.3258 - val_accuracy: 0.9172\n",
            "Epoch 5/20\n",
            "473/473 [==============================] - 47s 99ms/step - loss: 0.0452 - accuracy: 0.9874 - val_loss: 0.2902 - val_accuracy: 0.9238\n",
            "Epoch 6/20\n",
            "473/473 [==============================] - 47s 98ms/step - loss: 0.0351 - accuracy: 0.9899 - val_loss: 0.3545 - val_accuracy: 0.9182\n",
            "Epoch 7/20\n",
            "473/473 [==============================] - 47s 99ms/step - loss: 0.0304 - accuracy: 0.9919 - val_loss: 0.3571 - val_accuracy: 0.9185\n",
            "Epoch 8/20\n",
            "473/473 [==============================] - 48s 100ms/step - loss: 0.0256 - accuracy: 0.9919 - val_loss: 0.2905 - val_accuracy: 0.9238\n",
            "296/296 [==============================] - 2s 8ms/step - loss: 0.2567 - accuracy: 0.9227\n",
            "Test accuracy with RNN: 0.9227185845375061\n"
          ]
        }
      ]
    },
    {
      "cell_type": "markdown",
      "metadata": {
        "id": "fabab118"
      },
      "source": [
        "So, keras embedding gave 93% accuracy on Test set.\n",
        "I also could have tried to fasttext embedding which i trained on my data using fasttext. But i didn't have enough time to do it."
      ],
      "id": "fabab118"
    },
    {
      "cell_type": "markdown",
      "metadata": {
        "id": "44b11a94"
      },
      "source": [
        "I also used BERT pre-trained model which yeild 95% accuracy on test set on 4 epochs using standard hyperparameters. I couldn't tune hyperparameters due to lack of compute resources."
      ],
      "id": "44b11a94"
    }
  ]
}